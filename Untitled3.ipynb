{
 "cells": [
  {
   "cell_type": "code",
   "execution_count": 7,
   "metadata": {
    "scrolled": false
   },
   "outputs": [
    {
     "name": "stdout",
     "output_type": "stream",
     "text": [
      "Кол-во башинок: \n",
      "2\n",
      "Длина тени: \n",
      "2.370208066673888\n"
     ]
    }
   ],
   "source": [
    "#Вычисление тени от башенки из кубиков\n",
    "import math\n",
    "\n",
    "print(\"Кол-во башинок: \") \n",
    "a = int(input())\n",
    "print (\"Длина тени: \")\n",
    "\n",
    "shadow = a / math.tan(38.4)\n",
    "print (shadow)\n"
   ]
  },
  {
   "cell_type": "code",
   "execution_count": null,
   "metadata": {},
   "outputs": [],
   "source": []
  }
 ],
 "metadata": {
  "kernelspec": {
   "display_name": "Python 3",
   "language": "python",
   "name": "python3"
  },
  "language_info": {
   "codemirror_mode": {
    "name": "ipython",
    "version": 3
   },
   "file_extension": ".py",
   "mimetype": "text/x-python",
   "name": "python",
   "nbconvert_exporter": "python",
   "pygments_lexer": "ipython3",
   "version": "3.8.5"
  }
 },
 "nbformat": 4,
 "nbformat_minor": 4
}
