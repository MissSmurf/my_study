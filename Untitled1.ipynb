{
 "cells": [
  {
   "cell_type": "code",
   "execution_count": 2,
   "metadata": {},
   "outputs": [
    {
     "name": "stdout",
     "output_type": "stream",
     "text": [
      "Введите кол-во строк:\n",
      "3\n",
      "Введите кол-во столбцов:\n",
      "3\n",
      "Полученная матрица:\n",
      "[100, 787, 66]\n",
      "[787, 90, 303]\n",
      "[226, 387, 410]\n"
     ]
    }
   ],
   "source": [
    "# Задание 2\n",
    "\n",
    "import random\n",
    "def creatArray():\n",
    "    r=0\n",
    "    print(\"Введите кол-во строк:\")\n",
    "    x = int(input())\n",
    "    print(\"Введите кол-во столбцов:\")\n",
    "    y = int(input())\n",
    "    array=[]\n",
    "    min_xy = -250\n",
    "    max_xy = 1000 + (12)\n",
    "    \n",
    "    for i in range (x):\n",
    "        array.append([])\n",
    "        \n",
    "        for j in range(y):\n",
    "            array[i].append(random.randint(min_xy,max_xy))\n",
    "            r+=1\n",
    "    \n",
    "    print(\"Полученная матрица:\")\n",
    "    for u in range(x):\n",
    "        print(array[u])\n",
    "    \n",
    "creatArray()"
   ]
  }
 ],
 "metadata": {
  "kernelspec": {
   "display_name": "Python 3",
   "language": "python",
   "name": "python3"
  },
  "language_info": {
   "codemirror_mode": {
    "name": "ipython",
    "version": 3
   },
   "file_extension": ".py",
   "mimetype": "text/x-python",
   "name": "python",
   "nbconvert_exporter": "python",
   "pygments_lexer": "ipython3",
   "version": "3.8.5"
  }
 },
 "nbformat": 4,
 "nbformat_minor": 4
}
