{
 "cells": [
  {
   "cell_type": "code",
   "execution_count": 13,
   "metadata": {},
   "outputs": [
    {
     "name": "stdout",
     "output_type": "stream",
     "text": [
      "Исходная строка: \n",
      "[15, 97, 18, 83, 3, 88, 97, 54, 99, 20]\n",
      "Строка с числами от min до max:\n",
      "[3, 15, 18, 20, 54, 83, 88, 97, 97, 99]\n"
     ]
    }
   ],
   "source": [
    "# Задание 3 (Выборочный метод)\n",
    "\n",
    "# Заполняем список из 10 элементов случайными числами от 1 до 99 и выводим неотсортированный список на экран.\n",
    "from random import randint\n",
    "N = 10\n",
    "arr = []\n",
    "for i in range(N):\n",
    "    arr.append(randint(1, 99))\n",
    "print (\"Исходная строка: \")\n",
    "print(arr)\n",
    "\n",
    "# ПОИСК МИНИМУМА(N-1, так как последний элемент обменивать уже не надo)\n",
    "i = 0\n",
    "while i < (N - 1):\n",
    "    m = i\n",
    "    j = i + 1\n",
    "    \n",
    "    while j < N:\n",
    "        if arr[j] < arr[m]:\n",
    "            m = j\n",
    "        j += 1\n",
    "\n",
    "# ОБМЕН ЗНАЧЕНИЙ\n",
    "    arr[i], arr[m] = arr[m], arr[i]\n",
    "    i += 1\n",
    "    \n",
    "print (\"Строка с числами от min до max:\")\n",
    "print(arr)"
   ]
  },
  {
   "cell_type": "code",
   "execution_count": 8,
   "metadata": {},
   "outputs": [
    {
     "name": "stdout",
     "output_type": "stream",
     "text": [
      "Sorted array is:\n",
      "3\n",
      "7\n",
      "11\n",
      "12\n",
      "24\n"
     ]
    }
   ],
   "source": [
    "# Задание 3 (вставка)\n",
    "\n",
    "def insertion_sort(arr):\n",
    "    for i in range(1, len(arr)):\n",
    "        key = arr[i]\n",
    "        j = i-1\n",
    "        while j >=0 and key < arr[j] :\n",
    "            arr[j+1] = arr[j]\n",
    "            j -= 1\n",
    "        arr[j+1] = key \n",
    "arr = [12, 11, 24, 3, 7]\n",
    "insertion_sort(arr)\n",
    "print (\"Sorted array is:\")\n",
    "for i in range(len(arr)):\n",
    "    print (arr[i])"
   ]
  },
  {
   "cell_type": "code",
   "execution_count": 3,
   "metadata": {},
   "outputs": [
    {
     "name": "stdout",
     "output_type": "stream",
     "text": [
      "[10, 15, 37, 45, 51]\n"
     ]
    }
   ],
   "source": [
    "# Задание 3 (пирамидальная)\n",
    "\n",
    "def heapify(nums, heap_size, root_index):  \n",
    "    # Индекс наибольшего элемента считаем корневым индексом\n",
    "    largest = root_index\n",
    "    left_child = (2 * root_index) + 1\n",
    "    right_child = (2 * root_index) + 2\n",
    "\n",
    "    # Если левый потомок корня — допустимый индекс, а элемент больше,\n",
    "    # чем текущий наибольший, обновляем наибольший элемент\n",
    "    if left_child < heap_size and nums[left_child] > nums[largest]:\n",
    "        largest = left_child\n",
    "\n",
    "    # То же самое для правого потомка корня\n",
    "    if right_child < heap_size and nums[right_child] > nums[largest]:\n",
    "        largest = right_child\n",
    "\n",
    "    # Если наибольший элемент больше не корневой, они меняются местами\n",
    "    if largest != root_index:\n",
    "        nums[root_index], nums[largest] = nums[largest], nums[root_index]\n",
    "\n",
    "        heapify(nums, heap_size, largest)\n",
    "\n",
    "def heap_sort(nums):  \n",
    "    n = len(nums)\n",
    "\n",
    "    for i in range(n, -1, -1):\n",
    "        heapify(nums, n, i)\n",
    "        \n",
    "    # Перемещаем корень Max Heap в конец списка\n",
    "    for i in range(n - 1, 0, -1):\n",
    "        nums[i], nums[0] = nums[0], nums[i]\n",
    "        heapify(nums, i, 0)\n",
    "        \n",
    "# Проверяем, что оно работает\n",
    "random_list_of_nums = [37, 15, 45, 10, 51]  \n",
    "heap_sort(random_list_of_nums)  \n",
    "print(random_list_of_nums)"
   ]
  },
  {
   "cell_type": "code",
   "execution_count": 4,
   "metadata": {},
   "outputs": [
    {
     "name": "stdout",
     "output_type": "stream",
     "text": [
      "[3, 12, 19, 27, 63]\n"
     ]
    }
   ],
   "source": [
    "# Задание 3 (быстрая)\n",
    "def partition(nums, low, high):  \n",
    "    # Выбираем средний элемент в качестве опорного\n",
    "    # Также возможен выбор первого, последнего\n",
    "    # или произвольного элементов в качестве опорного\n",
    "    pivot = nums[(low + high) // 2]\n",
    "    i = low - 1\n",
    "    j = high + 1\n",
    "    while True:\n",
    "        i += 1\n",
    "        while nums[i] < pivot:\n",
    "            i += 1\n",
    "\n",
    "        j -= 1\n",
    "        while nums[j] > pivot:\n",
    "            j -= 1\n",
    "\n",
    "        if i >= j:\n",
    "            return j\n",
    "\n",
    "        # Если элемент с индексом i (слева от опорного) больше, чем\n",
    "        # элемент с индексом j (справа от опорного), меняем их местами\n",
    "        nums[i], nums[j] = nums[j], nums[i]\n",
    "\n",
    "def quick_sort(nums):  \n",
    "    # Создадим вспомогательную функцию, которая вызывается рекурсивно\n",
    "    def _quick_sort(items, low, high):\n",
    "        if low < high:\n",
    "            # This is the index after the pivot, where our lists are split\n",
    "            split_index = partition(items, low, high)\n",
    "            _quick_sort(items, low, split_index)\n",
    "            _quick_sort(items, split_index + 1, high)\n",
    "\n",
    "    _quick_sort(nums, 0, len(nums) - 1)\n",
    "\n",
    "# Проверяем, что оно работает\n",
    "random_list_of_nums = [27, 12, 3, 19, 63]  \n",
    "quick_sort(random_list_of_nums)  \n",
    "print(random_list_of_nums) "
   ]
  },
  {
   "cell_type": "code",
   "execution_count": 5,
   "metadata": {},
   "outputs": [
    {
     "name": "stdout",
     "output_type": "stream",
     "text": [
      "[45, 68, 120, 176, 250]\n"
     ]
    }
   ],
   "source": [
    "# Задание 3 (обменом)\n",
    "def merge(left_list, right_list):  \n",
    "    sorted_list = []\n",
    "    left_list_index = right_list_index = 0\n",
    "    \n",
    "    # Мы будет часто используем длины списков, поэтому удобно сразу создавать переменные для этого\n",
    "    left_list_length, right_list_length = len(left_list), len(right_list)\n",
    "    for _ in range(left_list_length + right_list_length):\n",
    "        if left_list_index < left_list_length and right_list_index < right_list_length:\n",
    "            \n",
    "            # Мы проверяем, какое значение с начала каждого списка меньше\n",
    "            # Если элемент в начале списка меньше, добавляем его в отсортированный список\n",
    "            if left_list[left_list_index] <= right_list[right_list_index]:\n",
    "                sorted_list.append(left_list[left_list_index])\n",
    "                left_list_index += 1\n",
    "                \n",
    "            else:\n",
    "                sorted_list.append(right_list[right_list_index])\n",
    "                right_list_index += 1\n",
    "                \n",
    "        # Если мы достигли конца левого списка, добавляем элементы из правого списка\n",
    "        elif left_list_index == left_list_length:\n",
    "            sorted_list.append(right_list[right_list_index])\n",
    "            right_list_index += 1\n",
    "            \n",
    "        # Если мы достигли конца правого списка, добавляем элементы из левого списка\n",
    "        elif right_list_index == right_list_length:\n",
    "            sorted_list.append(left_list[left_list_index])\n",
    "            left_list_index += 1\n",
    "    return sorted_list\n",
    "def merge_sort(nums):  \n",
    "    \n",
    "    # Если список представляет собой один элемент, возвращаем его\n",
    "    if len(nums) <= 1:\n",
    "        return nums\n",
    "    \n",
    "    # Используем деление с округленим по наименьшему целому для получения средней точки, индексы должны быть целыми числами \n",
    "    mid = len(nums) // 2\n",
    "    \n",
    "    # Сортируем и объединяем каждую половину\n",
    "    left_list = merge_sort(nums[:mid])\n",
    "    right_list = merge_sort(nums[mid:])\n",
    "    \n",
    "    # Объединить отсортированные списки в новый\n",
    "    return merge(left_list, right_list)\n",
    "\n",
    "# Проверяем, что все работает\n",
    "random_list_of_nums = [120, 45, 68, 250, 176]  \n",
    "random_list_of_nums = merge_sort(random_list_of_nums)  \n",
    "print(random_list_of_nums)  "
   ]
  },
  {
   "cell_type": "code",
   "execution_count": 7,
   "metadata": {},
   "outputs": [
    {
     "name": "stdout",
     "output_type": "stream",
     "text": [
      "[-5, 2, 4, 7, 8, 22]\n"
     ]
    }
   ],
   "source": [
    "# Задание 3 (шел)\n",
    "def shell(seq):\n",
    "    inc = len(seq) // 2\n",
    "    while inc:\n",
    "        for i, el in enumerate(seq):\n",
    "            while i >= inc and seq[i - inc] > el:\n",
    "                seq[i] = seq[i - inc]\n",
    "                i -= inc\n",
    "            seq[i] = el\n",
    "        inc = 1 if inc == 2 else int(inc * 5.0 / 11)\n",
    "  \n",
    "data = [22, 7, 2, -5, 8, 4]\n",
    "shell(data)\n",
    "print (data) # [-5, 2, 4, 7, 8, 22]"
   ]
  },
  {
   "cell_type": "code",
   "execution_count": 8,
   "metadata": {},
   "outputs": [
    {
     "name": "stdout",
     "output_type": "stream",
     "text": [
      "Sorted array is\n",
      "5\n",
      "6\n",
      "7\n",
      "11\n",
      "12\n",
      "13\n"
     ]
    }
   ],
   "source": [
    "#Задание 3 (Реализация турнирной сортировки)\n",
    "\n",
    "# Процедура для преобразования в двоичную кучу поддерева с корневым узлом i, что является индексом в arr[]. n - размер кучи\n",
    "def heapify(arr, n, i):\n",
    "    largest = i # Initialize largest as root\n",
    "    l = 2 * i + 1   # left = 2*i + 1\n",
    "    r = 2 * i + 2   # right = 2*i + 2\n",
    "\n",
    "  # Проверяем существует ли левый дочерний элемент больший, чем корень\n",
    "    if l < n and arr[i] < arr[l]:\n",
    "        largest = l\n",
    "\n",
    "    # Проверяем существует ли правый дочерний элемент больший, чем корень\n",
    "\n",
    "    if r < n and arr[largest] < arr[r]:\n",
    "        largest = r\n",
    "\n",
    "    # Заменяем корень, если нужно\n",
    "    if largest != i:\n",
    "        arr[i],arr[largest] = arr[largest],arr[i] # свап\n",
    "\n",
    "        # Применяем heapify к корню.\n",
    "        heapify(arr, n, largest)\n",
    "\n",
    "# Основная функция для сортировки массива заданного размера\n",
    "def heapSort(arr):\n",
    "    n = len(arr)\n",
    "\n",
    "    for i in range(n, -1, -1):\n",
    "        heapify(arr, n, i)\n",
    "\n",
    "    # Один за другим извлекаем элементы\n",
    "    for i in range(n-1, 0, -1):\n",
    "        arr[i], arr[0] = arr[0], arr[i] # свап \n",
    "        heapify(arr, i, 0)\n",
    "\n",
    "# Управляющий код для тестирования\n",
    "arr = [ 12, 11, 13, 5, 6, 7]\n",
    "heapSort(arr)\n",
    "n = len(arr)\n",
    "print (\"Sorted array is\")\n",
    "for i in range(n):\n",
    "    print (\"%d\" %arr[i])"
   ]
  },
  {
   "cell_type": "code",
   "execution_count": null,
   "metadata": {},
   "outputs": [],
   "source": []
  }
 ],
 "metadata": {
  "kernelspec": {
   "display_name": "Python 3",
   "language": "python",
   "name": "python3"
  },
  "language_info": {
   "codemirror_mode": {
    "name": "ipython",
    "version": 3
   },
   "file_extension": ".py",
   "mimetype": "text/x-python",
   "name": "python",
   "nbconvert_exporter": "python",
   "pygments_lexer": "ipython3",
   "version": "3.8.5"
  }
 },
 "nbformat": 4,
 "nbformat_minor": 4
}
